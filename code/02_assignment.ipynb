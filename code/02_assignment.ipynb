{
 "cells": [
  {
   "cell_type": "markdown",
   "id": "e31d995b",
   "metadata": {},
   "source": [
    "# Working with Data"
   ]
  },
  {
   "cell_type": "markdown",
   "id": "7903b1dc",
   "metadata": {},
   "source": [
    ">Using the data below, answer the following questions:\n",
    "\n",
    ">1) Which entities (top 5) had the largest population density in 2020?\n",
    ">2) Which entities have more water area than land area?\n",
    ">3) Which entities increased in population the most in the last 10 years?\n",
    ">4) What state bird accounts for the largest population as of 2020? Land area?\n",
    ">5) How many entities' largest city is their capital city?\n",
    ">6) Which city has the largest percent drop from their largest city to their 5th largest? 100*(1st largest - 5th largest)/(1st largest)"
   ]
  },
  {
   "cell_type": "code",
   "execution_count": null,
   "id": "0dcac0ca",
   "metadata": {},
   "outputs": [],
   "source": [
    "import pandas as pd"
   ]
  },
  {
   "cell_type": "code",
   "execution_count": null,
   "id": "d27dde36",
   "metadata": {},
   "outputs": [],
   "source": [
    "facts = pd.read_csv('../data/state_facts.tsv',delimiter=\"\\t\")\n",
    "facts.head(5)"
   ]
  },
  {
   "cell_type": "markdown",
   "id": "57202687",
   "metadata": {},
   "source": [
    ">Using the \"state_dates.tsv\" data, answer the remaining questions. You will need to merge the two data sets together:\n",
    "\n",
    ">7) Of the states that joined the United States before 1790, what is the most common state flower?\n",
    ">8) Which has the larger population density, the most dense US Territory or the least dense state?\n",
    ">9) Make a graph that plots the populations of the largest city in each entity in the order in which they joined the US. Make the bars black\n",
    ">10) Make two additional graphs like the one above but one for land area (green bars) and one for water area (blue bars)"
   ]
  },
  {
   "cell_type": "markdown",
   "id": "73418a31",
   "metadata": {},
   "source": [
    "Hint: `pd.read_csv('../data/state_dates.tsv',delimiter=\"\\t\")`\n",
    "\n",
    "Hint: You likely want to convert the Date column to datetime. You might have to correct errors in the data as well.\n",
    "\n",
    "Hint: `states['Date']<pd.datetime(1790,1,1)`\n",
    "\n",
    "Hint: `pd.merge(****,****,left_on='USPS_code',right_on='Abbreviation',how='outer')`"
   ]
  },
  {
   "cell_type": "code",
   "execution_count": null,
   "id": "cf222532",
   "metadata": {},
   "outputs": [],
   "source": [
    "# Sample code to help with the plots\n",
    "\n",
    "#import matplotlib as plt\n",
    "#%config InlineBackend.figure_format ='retina' #This makes your plot clearer\n",
    "\n",
    "\n",
    "#plot = *your df by date*[[*column*,'Abbreviation']].plot(kind='bar',figsize=(10,4))\n",
    "#plot.set_xticklabels(*your df by date*['Abbreviation']);"
   ]
  },
  {
   "cell_type": "code",
   "execution_count": null,
   "id": "cf0c6125",
   "metadata": {},
   "outputs": [],
   "source": []
  }
 ],
 "metadata": {
  "jupytext": {
   "formats": "ipynb"
  },
  "kernelspec": {
   "display_name": "Python 3",
   "language": "python",
   "name": "python3"
  }
 },
 "nbformat": 4,
 "nbformat_minor": 5
}
